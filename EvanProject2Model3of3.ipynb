{
 "cells": [
  {
   "cell_type": "markdown",
   "metadata": {},
   "source": [
    "# Project 2: The Ames Housing Data and House Price Prediction Part 3\n",
    "## By Evan Jacobs, data genius"
   ]
  },
  {
   "cell_type": "markdown",
   "metadata": {},
   "source": [
    "This is part 3, where we just do a simple linear model without polynomial features. All the same steps will be taken as in part 1, sans the markdown cells. Any markdown cells here will be used to describe what is different this time around."
   ]
  },
  {
   "cell_type": "code",
   "execution_count": 203,
   "metadata": {},
   "outputs": [],
   "source": [
    "# IMPORT ALL THE THINGS!!!!!!\n",
    "import numpy as np\n",
    "import scipy.stats as stats\n",
    "import seaborn as sns\n",
    "import matplotlib.pyplot as plt\n",
    "import pandas as pd\n",
    "from sklearn import linear_model\n",
    "from sklearn.metrics import mean_squared_error\n",
    "from sklearn.model_selection import train_test_split\n",
    "from sklearn.preprocessing import PolynomialFeatures\n",
    "from sklearn.linear_model import Ridge, Lasso, ElasticNet, LinearRegression, RidgeCV, LassoCV, ElasticNetCV, LogisticRegressionCV\n",
    "from sklearn.model_selection import cross_val_score, cross_val_predict, train_test_split\n",
    "from sklearn.feature_selection import RFE\n",
    "from sklearn.svm import SVR\n",
    "from sklearn.feature_selection import RFE, SelectKBest, f_regression, f_classif\n",
    "import pandas as pd\n",
    "from sklearn.linear_model import LinearRegression\n",
    "from sklearn.metrics import r2_score\n",
    "\n",
    "sns.set_style('darkgrid')\n",
    "\n",
    "%config InlineBackend.figure_format = 'retina'\n",
    "%matplotlib inline"
   ]
  },
  {
   "cell_type": "code",
   "execution_count": 192,
   "metadata": {},
   "outputs": [],
   "source": [
    "train_csv = '/Users/evanjacobs/dsi/DSI-US-4/project-2/train.csv'\n",
    "test_csv = '/Users/evanjacobs/dsi/DSI-US-4/project-2/test.csv'"
   ]
  },
  {
   "cell_type": "code",
   "execution_count": 202,
   "metadata": {},
   "outputs": [
    {
     "ename": "FileNotFoundError",
     "evalue": "File b'./train.csv' does not exist",
     "output_type": "error",
     "traceback": [
      "\u001b[0;31m---------------------------------------------------------------------------\u001b[0m",
      "\u001b[0;31mFileNotFoundError\u001b[0m                         Traceback (most recent call last)",
      "\u001b[0;32m<ipython-input-202-07052194c483>\u001b[0m in \u001b[0;36m<module>\u001b[0;34m()\u001b[0m\n\u001b[0;32m----> 1\u001b[0;31m \u001b[0mdf\u001b[0m \u001b[0;34m=\u001b[0m \u001b[0mpd\u001b[0m\u001b[0;34m.\u001b[0m\u001b[0mread_csv\u001b[0m\u001b[0;34m(\u001b[0m\u001b[0mtrain_csv\u001b[0m\u001b[0;34m)\u001b[0m\u001b[0;34m\u001b[0m\u001b[0m\n\u001b[0m\u001b[1;32m      2\u001b[0m \u001b[0mfinaltest\u001b[0m \u001b[0;34m=\u001b[0m \u001b[0mpd\u001b[0m\u001b[0;34m.\u001b[0m\u001b[0mread_csv\u001b[0m\u001b[0;34m(\u001b[0m\u001b[0mtest_csv\u001b[0m\u001b[0;34m)\u001b[0m\u001b[0;34m\u001b[0m\u001b[0m\n",
      "\u001b[0;32m/anaconda3/envs/dsi/lib/python3.6/site-packages/pandas/io/parsers.py\u001b[0m in \u001b[0;36mparser_f\u001b[0;34m(filepath_or_buffer, sep, delimiter, header, names, index_col, usecols, squeeze, prefix, mangle_dupe_cols, dtype, engine, converters, true_values, false_values, skipinitialspace, skiprows, nrows, na_values, keep_default_na, na_filter, verbose, skip_blank_lines, parse_dates, infer_datetime_format, keep_date_col, date_parser, dayfirst, iterator, chunksize, compression, thousands, decimal, lineterminator, quotechar, quoting, escapechar, comment, encoding, dialect, tupleize_cols, error_bad_lines, warn_bad_lines, skipfooter, skip_footer, doublequote, delim_whitespace, as_recarray, compact_ints, use_unsigned, low_memory, buffer_lines, memory_map, float_precision)\u001b[0m\n\u001b[1;32m    707\u001b[0m                     skip_blank_lines=skip_blank_lines)\n\u001b[1;32m    708\u001b[0m \u001b[0;34m\u001b[0m\u001b[0m\n\u001b[0;32m--> 709\u001b[0;31m         \u001b[0;32mreturn\u001b[0m \u001b[0m_read\u001b[0m\u001b[0;34m(\u001b[0m\u001b[0mfilepath_or_buffer\u001b[0m\u001b[0;34m,\u001b[0m \u001b[0mkwds\u001b[0m\u001b[0;34m)\u001b[0m\u001b[0;34m\u001b[0m\u001b[0m\n\u001b[0m\u001b[1;32m    710\u001b[0m \u001b[0;34m\u001b[0m\u001b[0m\n\u001b[1;32m    711\u001b[0m     \u001b[0mparser_f\u001b[0m\u001b[0;34m.\u001b[0m\u001b[0m__name__\u001b[0m \u001b[0;34m=\u001b[0m \u001b[0mname\u001b[0m\u001b[0;34m\u001b[0m\u001b[0m\n",
      "\u001b[0;32m/anaconda3/envs/dsi/lib/python3.6/site-packages/pandas/io/parsers.py\u001b[0m in \u001b[0;36m_read\u001b[0;34m(filepath_or_buffer, kwds)\u001b[0m\n\u001b[1;32m    447\u001b[0m \u001b[0;34m\u001b[0m\u001b[0m\n\u001b[1;32m    448\u001b[0m     \u001b[0;31m# Create the parser.\u001b[0m\u001b[0;34m\u001b[0m\u001b[0;34m\u001b[0m\u001b[0m\n\u001b[0;32m--> 449\u001b[0;31m     \u001b[0mparser\u001b[0m \u001b[0;34m=\u001b[0m \u001b[0mTextFileReader\u001b[0m\u001b[0;34m(\u001b[0m\u001b[0mfilepath_or_buffer\u001b[0m\u001b[0;34m,\u001b[0m \u001b[0;34m**\u001b[0m\u001b[0mkwds\u001b[0m\u001b[0;34m)\u001b[0m\u001b[0;34m\u001b[0m\u001b[0m\n\u001b[0m\u001b[1;32m    450\u001b[0m \u001b[0;34m\u001b[0m\u001b[0m\n\u001b[1;32m    451\u001b[0m     \u001b[0;32mif\u001b[0m \u001b[0mchunksize\u001b[0m \u001b[0;32mor\u001b[0m \u001b[0miterator\u001b[0m\u001b[0;34m:\u001b[0m\u001b[0;34m\u001b[0m\u001b[0m\n",
      "\u001b[0;32m/anaconda3/envs/dsi/lib/python3.6/site-packages/pandas/io/parsers.py\u001b[0m in \u001b[0;36m__init__\u001b[0;34m(self, f, engine, **kwds)\u001b[0m\n\u001b[1;32m    816\u001b[0m             \u001b[0mself\u001b[0m\u001b[0;34m.\u001b[0m\u001b[0moptions\u001b[0m\u001b[0;34m[\u001b[0m\u001b[0;34m'has_index_names'\u001b[0m\u001b[0;34m]\u001b[0m \u001b[0;34m=\u001b[0m \u001b[0mkwds\u001b[0m\u001b[0;34m[\u001b[0m\u001b[0;34m'has_index_names'\u001b[0m\u001b[0;34m]\u001b[0m\u001b[0;34m\u001b[0m\u001b[0m\n\u001b[1;32m    817\u001b[0m \u001b[0;34m\u001b[0m\u001b[0m\n\u001b[0;32m--> 818\u001b[0;31m         \u001b[0mself\u001b[0m\u001b[0;34m.\u001b[0m\u001b[0m_make_engine\u001b[0m\u001b[0;34m(\u001b[0m\u001b[0mself\u001b[0m\u001b[0;34m.\u001b[0m\u001b[0mengine\u001b[0m\u001b[0;34m)\u001b[0m\u001b[0;34m\u001b[0m\u001b[0m\n\u001b[0m\u001b[1;32m    819\u001b[0m \u001b[0;34m\u001b[0m\u001b[0m\n\u001b[1;32m    820\u001b[0m     \u001b[0;32mdef\u001b[0m \u001b[0mclose\u001b[0m\u001b[0;34m(\u001b[0m\u001b[0mself\u001b[0m\u001b[0;34m)\u001b[0m\u001b[0;34m:\u001b[0m\u001b[0;34m\u001b[0m\u001b[0m\n",
      "\u001b[0;32m/anaconda3/envs/dsi/lib/python3.6/site-packages/pandas/io/parsers.py\u001b[0m in \u001b[0;36m_make_engine\u001b[0;34m(self, engine)\u001b[0m\n\u001b[1;32m   1047\u001b[0m     \u001b[0;32mdef\u001b[0m \u001b[0m_make_engine\u001b[0m\u001b[0;34m(\u001b[0m\u001b[0mself\u001b[0m\u001b[0;34m,\u001b[0m \u001b[0mengine\u001b[0m\u001b[0;34m=\u001b[0m\u001b[0;34m'c'\u001b[0m\u001b[0;34m)\u001b[0m\u001b[0;34m:\u001b[0m\u001b[0;34m\u001b[0m\u001b[0m\n\u001b[1;32m   1048\u001b[0m         \u001b[0;32mif\u001b[0m \u001b[0mengine\u001b[0m \u001b[0;34m==\u001b[0m \u001b[0;34m'c'\u001b[0m\u001b[0;34m:\u001b[0m\u001b[0;34m\u001b[0m\u001b[0m\n\u001b[0;32m-> 1049\u001b[0;31m             \u001b[0mself\u001b[0m\u001b[0;34m.\u001b[0m\u001b[0m_engine\u001b[0m \u001b[0;34m=\u001b[0m \u001b[0mCParserWrapper\u001b[0m\u001b[0;34m(\u001b[0m\u001b[0mself\u001b[0m\u001b[0;34m.\u001b[0m\u001b[0mf\u001b[0m\u001b[0;34m,\u001b[0m \u001b[0;34m**\u001b[0m\u001b[0mself\u001b[0m\u001b[0;34m.\u001b[0m\u001b[0moptions\u001b[0m\u001b[0;34m)\u001b[0m\u001b[0;34m\u001b[0m\u001b[0m\n\u001b[0m\u001b[1;32m   1050\u001b[0m         \u001b[0;32melse\u001b[0m\u001b[0;34m:\u001b[0m\u001b[0;34m\u001b[0m\u001b[0m\n\u001b[1;32m   1051\u001b[0m             \u001b[0;32mif\u001b[0m \u001b[0mengine\u001b[0m \u001b[0;34m==\u001b[0m \u001b[0;34m'python'\u001b[0m\u001b[0;34m:\u001b[0m\u001b[0;34m\u001b[0m\u001b[0m\n",
      "\u001b[0;32m/anaconda3/envs/dsi/lib/python3.6/site-packages/pandas/io/parsers.py\u001b[0m in \u001b[0;36m__init__\u001b[0;34m(self, src, **kwds)\u001b[0m\n\u001b[1;32m   1693\u001b[0m         \u001b[0mkwds\u001b[0m\u001b[0;34m[\u001b[0m\u001b[0;34m'allow_leading_cols'\u001b[0m\u001b[0;34m]\u001b[0m \u001b[0;34m=\u001b[0m \u001b[0mself\u001b[0m\u001b[0;34m.\u001b[0m\u001b[0mindex_col\u001b[0m \u001b[0;32mis\u001b[0m \u001b[0;32mnot\u001b[0m \u001b[0;32mFalse\u001b[0m\u001b[0;34m\u001b[0m\u001b[0m\n\u001b[1;32m   1694\u001b[0m \u001b[0;34m\u001b[0m\u001b[0m\n\u001b[0;32m-> 1695\u001b[0;31m         \u001b[0mself\u001b[0m\u001b[0;34m.\u001b[0m\u001b[0m_reader\u001b[0m \u001b[0;34m=\u001b[0m \u001b[0mparsers\u001b[0m\u001b[0;34m.\u001b[0m\u001b[0mTextReader\u001b[0m\u001b[0;34m(\u001b[0m\u001b[0msrc\u001b[0m\u001b[0;34m,\u001b[0m \u001b[0;34m**\u001b[0m\u001b[0mkwds\u001b[0m\u001b[0;34m)\u001b[0m\u001b[0;34m\u001b[0m\u001b[0m\n\u001b[0m\u001b[1;32m   1696\u001b[0m \u001b[0;34m\u001b[0m\u001b[0m\n\u001b[1;32m   1697\u001b[0m         \u001b[0;31m# XXX\u001b[0m\u001b[0;34m\u001b[0m\u001b[0;34m\u001b[0m\u001b[0m\n",
      "\u001b[0;32mpandas/_libs/parsers.pyx\u001b[0m in \u001b[0;36mpandas._libs.parsers.TextReader.__cinit__\u001b[0;34m()\u001b[0m\n",
      "\u001b[0;32mpandas/_libs/parsers.pyx\u001b[0m in \u001b[0;36mpandas._libs.parsers.TextReader._setup_parser_source\u001b[0;34m()\u001b[0m\n",
      "\u001b[0;31mFileNotFoundError\u001b[0m: File b'./train.csv' does not exist"
     ]
    }
   ],
   "source": [
    "df = pd.read_csv(train_csv)\n",
    "finaltest = pd.read_csv(test_csv)"
   ]
  },
  {
   "cell_type": "code",
   "execution_count": 194,
   "metadata": {},
   "outputs": [],
   "source": [
    "X = df.drop(['SalePrice'], axis=1)\n",
    "y = df.SalePrice.values\n",
    "X_full = df.drop(['SalePrice'], axis=1)\n",
    "X_train, X_test, y_train, y_test = train_test_split(X, y)"
   ]
  },
  {
   "cell_type": "code",
   "execution_count": 195,
   "metadata": {},
   "outputs": [],
   "source": [
    "def colclean(column_list): \n",
    "    columns=[]\n",
    "    for n in column_list:\n",
    "        n = n.lower().replace(' ','')\n",
    "        columns.append(n)\n",
    "    return columns\n",
    "colclean(df.columns)\n",
    "X_train.columns = colclean(X_train.columns)\n",
    "X_test.columns = colclean(X_test.columns)\n",
    "X_full.columns = colclean(X_full.columns)\n",
    "finaltest.columns = colclean(finaltest.columns)"
   ]
  },
  {
   "cell_type": "code",
   "execution_count": 196,
   "metadata": {},
   "outputs": [],
   "source": [
    "X_train = X_train.fillna(X_train.mean())\n",
    "X_test = X_test.fillna(X_test.mean())\n",
    "X_full = X_full.fillna(X_full.mean())\n",
    "finaltest = finaltest.fillna(finaltest.mean())"
   ]
  },
  {
   "cell_type": "code",
   "execution_count": 197,
   "metadata": {
    "scrolled": true
   },
   "outputs": [],
   "source": [
    "# Thought about using this function, but I did this after submission, so I'm just going to leave the code here. \n",
    "# def obj_sep_num(x):\n",
    "#     return x.select_dtypes(exclude=[np.number]), x.select_dtypes(include=[np.number])\n",
    "\n",
    "\n",
    "# X_tr_obj, X_tr_num = obj_sep_num(X_train)"
   ]
  },
  {
   "cell_type": "code",
   "execution_count": 198,
   "metadata": {},
   "outputs": [],
   "source": [
    "X_tr_obj = X_train.select_dtypes(exclude=[np.number])\n",
    "X_tr_num = X_train.select_dtypes(include=[np.number])\n",
    "X_ts_obj = X_test.select_dtypes(exclude=[np.number])\n",
    "X_ts_num = X_test.select_dtypes(include=[np.number])\n",
    "X_full_obj = X_full.select_dtypes(exclude=[np.number])\n",
    "X_full_num = X_full.select_dtypes(include=[np.number])\n",
    "finaltest_obj = finaltest.select_dtypes(exclude=[np.number])\n",
    "finaltest_num = finaltest.select_dtypes(include=[np.number])"
   ]
  },
  {
   "cell_type": "code",
   "execution_count": 199,
   "metadata": {
    "scrolled": false
   },
   "outputs": [
    {
     "name": "stderr",
     "output_type": "stream",
     "text": [
      "/anaconda3/envs/dsi/lib/python3.6/site-packages/ipykernel/__main__.py:1: SettingWithCopyWarning: \n",
      "A value is trying to be set on a copy of a slice from a DataFrame.\n",
      "Try using .loc[row_indexer,col_indexer] = value instead\n",
      "\n",
      "See the caveats in the documentation: http://pandas.pydata.org/pandas-docs/stable/indexing.html#indexing-view-versus-copy\n",
      "  if __name__ == '__main__':\n",
      "/anaconda3/envs/dsi/lib/python3.6/site-packages/ipykernel/__main__.py:2: SettingWithCopyWarning: \n",
      "A value is trying to be set on a copy of a slice from a DataFrame.\n",
      "Try using .loc[row_indexer,col_indexer] = value instead\n",
      "\n",
      "See the caveats in the documentation: http://pandas.pydata.org/pandas-docs/stable/indexing.html#indexing-view-versus-copy\n",
      "  from ipykernel import kernelapp as app\n",
      "/anaconda3/envs/dsi/lib/python3.6/site-packages/ipykernel/__main__.py:3: SettingWithCopyWarning: \n",
      "A value is trying to be set on a copy of a slice from a DataFrame.\n",
      "Try using .loc[row_indexer,col_indexer] = value instead\n",
      "\n",
      "See the caveats in the documentation: http://pandas.pydata.org/pandas-docs/stable/indexing.html#indexing-view-versus-copy\n",
      "  app.launch_new_instance()\n"
     ]
    },
    {
     "ename": "KeyError",
     "evalue": "'mssubclass'",
     "output_type": "error",
     "traceback": [
      "\u001b[0;31m---------------------------------------------------------------------------\u001b[0m",
      "\u001b[0;31mKeyError\u001b[0m                                  Traceback (most recent call last)",
      "\u001b[0;32m/anaconda3/envs/dsi/lib/python3.6/site-packages/pandas/core/indexes/base.py\u001b[0m in \u001b[0;36mget_loc\u001b[0;34m(self, key, method, tolerance)\u001b[0m\n\u001b[1;32m   2524\u001b[0m             \u001b[0;32mtry\u001b[0m\u001b[0;34m:\u001b[0m\u001b[0;34m\u001b[0m\u001b[0m\n\u001b[0;32m-> 2525\u001b[0;31m                 \u001b[0;32mreturn\u001b[0m \u001b[0mself\u001b[0m\u001b[0;34m.\u001b[0m\u001b[0m_engine\u001b[0m\u001b[0;34m.\u001b[0m\u001b[0mget_loc\u001b[0m\u001b[0;34m(\u001b[0m\u001b[0mkey\u001b[0m\u001b[0;34m)\u001b[0m\u001b[0;34m\u001b[0m\u001b[0m\n\u001b[0m\u001b[1;32m   2526\u001b[0m             \u001b[0;32mexcept\u001b[0m \u001b[0mKeyError\u001b[0m\u001b[0;34m:\u001b[0m\u001b[0;34m\u001b[0m\u001b[0m\n",
      "\u001b[0;32mpandas/_libs/index.pyx\u001b[0m in \u001b[0;36mpandas._libs.index.IndexEngine.get_loc\u001b[0;34m()\u001b[0m\n",
      "\u001b[0;32mpandas/_libs/index.pyx\u001b[0m in \u001b[0;36mpandas._libs.index.IndexEngine.get_loc\u001b[0;34m()\u001b[0m\n",
      "\u001b[0;32mpandas/_libs/hashtable_class_helper.pxi\u001b[0m in \u001b[0;36mpandas._libs.hashtable.PyObjectHashTable.get_item\u001b[0;34m()\u001b[0m\n",
      "\u001b[0;32mpandas/_libs/hashtable_class_helper.pxi\u001b[0m in \u001b[0;36mpandas._libs.hashtable.PyObjectHashTable.get_item\u001b[0;34m()\u001b[0m\n",
      "\u001b[0;31mKeyError\u001b[0m: 'mssubclass'",
      "\nDuring handling of the above exception, another exception occurred:\n",
      "\u001b[0;31mKeyError\u001b[0m                                  Traceback (most recent call last)",
      "\u001b[0;32m<ipython-input-199-5e3fa7b5b392>\u001b[0m in \u001b[0;36m<module>\u001b[0;34m()\u001b[0m\n\u001b[1;32m      2\u001b[0m \u001b[0mX_full_obj\u001b[0m\u001b[0;34m[\u001b[0m\u001b[0;34m'mssubclass'\u001b[0m\u001b[0;34m]\u001b[0m \u001b[0;34m=\u001b[0m \u001b[0mX_full_num\u001b[0m\u001b[0;34m[\u001b[0m\u001b[0;34m'mssubclass'\u001b[0m\u001b[0;34m]\u001b[0m\u001b[0;34m\u001b[0m\u001b[0m\n\u001b[1;32m      3\u001b[0m \u001b[0mX_ts_obj\u001b[0m\u001b[0;34m[\u001b[0m\u001b[0;34m'mssubclass'\u001b[0m\u001b[0;34m]\u001b[0m \u001b[0;34m=\u001b[0m \u001b[0mX_ts_num\u001b[0m\u001b[0;34m[\u001b[0m\u001b[0;34m'mssubclass'\u001b[0m\u001b[0;34m]\u001b[0m\u001b[0;34m\u001b[0m\u001b[0m\n\u001b[0;32m----> 4\u001b[0;31m \u001b[0mfinaltest_obj\u001b[0m\u001b[0;34m[\u001b[0m\u001b[0;34m'mssubclass'\u001b[0m\u001b[0;34m]\u001b[0m \u001b[0;34m=\u001b[0m \u001b[0mfinaltest_num\u001b[0m\u001b[0;34m[\u001b[0m\u001b[0;34m'mssubclass'\u001b[0m\u001b[0;34m]\u001b[0m\u001b[0;34m\u001b[0m\u001b[0m\n\u001b[0m",
      "\u001b[0;32m/anaconda3/envs/dsi/lib/python3.6/site-packages/pandas/core/frame.py\u001b[0m in \u001b[0;36m__getitem__\u001b[0;34m(self, key)\u001b[0m\n\u001b[1;32m   2137\u001b[0m             \u001b[0;32mreturn\u001b[0m \u001b[0mself\u001b[0m\u001b[0;34m.\u001b[0m\u001b[0m_getitem_multilevel\u001b[0m\u001b[0;34m(\u001b[0m\u001b[0mkey\u001b[0m\u001b[0;34m)\u001b[0m\u001b[0;34m\u001b[0m\u001b[0m\n\u001b[1;32m   2138\u001b[0m         \u001b[0;32melse\u001b[0m\u001b[0;34m:\u001b[0m\u001b[0;34m\u001b[0m\u001b[0m\n\u001b[0;32m-> 2139\u001b[0;31m             \u001b[0;32mreturn\u001b[0m \u001b[0mself\u001b[0m\u001b[0;34m.\u001b[0m\u001b[0m_getitem_column\u001b[0m\u001b[0;34m(\u001b[0m\u001b[0mkey\u001b[0m\u001b[0;34m)\u001b[0m\u001b[0;34m\u001b[0m\u001b[0m\n\u001b[0m\u001b[1;32m   2140\u001b[0m \u001b[0;34m\u001b[0m\u001b[0m\n\u001b[1;32m   2141\u001b[0m     \u001b[0;32mdef\u001b[0m \u001b[0m_getitem_column\u001b[0m\u001b[0;34m(\u001b[0m\u001b[0mself\u001b[0m\u001b[0;34m,\u001b[0m \u001b[0mkey\u001b[0m\u001b[0;34m)\u001b[0m\u001b[0;34m:\u001b[0m\u001b[0;34m\u001b[0m\u001b[0m\n",
      "\u001b[0;32m/anaconda3/envs/dsi/lib/python3.6/site-packages/pandas/core/frame.py\u001b[0m in \u001b[0;36m_getitem_column\u001b[0;34m(self, key)\u001b[0m\n\u001b[1;32m   2144\u001b[0m         \u001b[0;31m# get column\u001b[0m\u001b[0;34m\u001b[0m\u001b[0;34m\u001b[0m\u001b[0m\n\u001b[1;32m   2145\u001b[0m         \u001b[0;32mif\u001b[0m \u001b[0mself\u001b[0m\u001b[0;34m.\u001b[0m\u001b[0mcolumns\u001b[0m\u001b[0;34m.\u001b[0m\u001b[0mis_unique\u001b[0m\u001b[0;34m:\u001b[0m\u001b[0;34m\u001b[0m\u001b[0m\n\u001b[0;32m-> 2146\u001b[0;31m             \u001b[0;32mreturn\u001b[0m \u001b[0mself\u001b[0m\u001b[0;34m.\u001b[0m\u001b[0m_get_item_cache\u001b[0m\u001b[0;34m(\u001b[0m\u001b[0mkey\u001b[0m\u001b[0;34m)\u001b[0m\u001b[0;34m\u001b[0m\u001b[0m\n\u001b[0m\u001b[1;32m   2147\u001b[0m \u001b[0;34m\u001b[0m\u001b[0m\n\u001b[1;32m   2148\u001b[0m         \u001b[0;31m# duplicate columns & possible reduce dimensionality\u001b[0m\u001b[0;34m\u001b[0m\u001b[0;34m\u001b[0m\u001b[0m\n",
      "\u001b[0;32m/anaconda3/envs/dsi/lib/python3.6/site-packages/pandas/core/generic.py\u001b[0m in \u001b[0;36m_get_item_cache\u001b[0;34m(self, item)\u001b[0m\n\u001b[1;32m   1840\u001b[0m         \u001b[0mres\u001b[0m \u001b[0;34m=\u001b[0m \u001b[0mcache\u001b[0m\u001b[0;34m.\u001b[0m\u001b[0mget\u001b[0m\u001b[0;34m(\u001b[0m\u001b[0mitem\u001b[0m\u001b[0;34m)\u001b[0m\u001b[0;34m\u001b[0m\u001b[0m\n\u001b[1;32m   1841\u001b[0m         \u001b[0;32mif\u001b[0m \u001b[0mres\u001b[0m \u001b[0;32mis\u001b[0m \u001b[0;32mNone\u001b[0m\u001b[0;34m:\u001b[0m\u001b[0;34m\u001b[0m\u001b[0m\n\u001b[0;32m-> 1842\u001b[0;31m             \u001b[0mvalues\u001b[0m \u001b[0;34m=\u001b[0m \u001b[0mself\u001b[0m\u001b[0;34m.\u001b[0m\u001b[0m_data\u001b[0m\u001b[0;34m.\u001b[0m\u001b[0mget\u001b[0m\u001b[0;34m(\u001b[0m\u001b[0mitem\u001b[0m\u001b[0;34m)\u001b[0m\u001b[0;34m\u001b[0m\u001b[0m\n\u001b[0m\u001b[1;32m   1843\u001b[0m             \u001b[0mres\u001b[0m \u001b[0;34m=\u001b[0m \u001b[0mself\u001b[0m\u001b[0;34m.\u001b[0m\u001b[0m_box_item_values\u001b[0m\u001b[0;34m(\u001b[0m\u001b[0mitem\u001b[0m\u001b[0;34m,\u001b[0m \u001b[0mvalues\u001b[0m\u001b[0;34m)\u001b[0m\u001b[0;34m\u001b[0m\u001b[0m\n\u001b[1;32m   1844\u001b[0m             \u001b[0mcache\u001b[0m\u001b[0;34m[\u001b[0m\u001b[0mitem\u001b[0m\u001b[0;34m]\u001b[0m \u001b[0;34m=\u001b[0m \u001b[0mres\u001b[0m\u001b[0;34m\u001b[0m\u001b[0m\n",
      "\u001b[0;32m/anaconda3/envs/dsi/lib/python3.6/site-packages/pandas/core/internals.py\u001b[0m in \u001b[0;36mget\u001b[0;34m(self, item, fastpath)\u001b[0m\n\u001b[1;32m   3841\u001b[0m \u001b[0;34m\u001b[0m\u001b[0m\n\u001b[1;32m   3842\u001b[0m             \u001b[0;32mif\u001b[0m \u001b[0;32mnot\u001b[0m \u001b[0misna\u001b[0m\u001b[0;34m(\u001b[0m\u001b[0mitem\u001b[0m\u001b[0;34m)\u001b[0m\u001b[0;34m:\u001b[0m\u001b[0;34m\u001b[0m\u001b[0m\n\u001b[0;32m-> 3843\u001b[0;31m                 \u001b[0mloc\u001b[0m \u001b[0;34m=\u001b[0m \u001b[0mself\u001b[0m\u001b[0;34m.\u001b[0m\u001b[0mitems\u001b[0m\u001b[0;34m.\u001b[0m\u001b[0mget_loc\u001b[0m\u001b[0;34m(\u001b[0m\u001b[0mitem\u001b[0m\u001b[0;34m)\u001b[0m\u001b[0;34m\u001b[0m\u001b[0m\n\u001b[0m\u001b[1;32m   3844\u001b[0m             \u001b[0;32melse\u001b[0m\u001b[0;34m:\u001b[0m\u001b[0;34m\u001b[0m\u001b[0m\n\u001b[1;32m   3845\u001b[0m                 \u001b[0mindexer\u001b[0m \u001b[0;34m=\u001b[0m \u001b[0mnp\u001b[0m\u001b[0;34m.\u001b[0m\u001b[0marange\u001b[0m\u001b[0;34m(\u001b[0m\u001b[0mlen\u001b[0m\u001b[0;34m(\u001b[0m\u001b[0mself\u001b[0m\u001b[0;34m.\u001b[0m\u001b[0mitems\u001b[0m\u001b[0;34m)\u001b[0m\u001b[0;34m)\u001b[0m\u001b[0;34m[\u001b[0m\u001b[0misna\u001b[0m\u001b[0;34m(\u001b[0m\u001b[0mself\u001b[0m\u001b[0;34m.\u001b[0m\u001b[0mitems\u001b[0m\u001b[0;34m)\u001b[0m\u001b[0;34m]\u001b[0m\u001b[0;34m\u001b[0m\u001b[0m\n",
      "\u001b[0;32m/anaconda3/envs/dsi/lib/python3.6/site-packages/pandas/core/indexes/base.py\u001b[0m in \u001b[0;36mget_loc\u001b[0;34m(self, key, method, tolerance)\u001b[0m\n\u001b[1;32m   2525\u001b[0m                 \u001b[0;32mreturn\u001b[0m \u001b[0mself\u001b[0m\u001b[0;34m.\u001b[0m\u001b[0m_engine\u001b[0m\u001b[0;34m.\u001b[0m\u001b[0mget_loc\u001b[0m\u001b[0;34m(\u001b[0m\u001b[0mkey\u001b[0m\u001b[0;34m)\u001b[0m\u001b[0;34m\u001b[0m\u001b[0m\n\u001b[1;32m   2526\u001b[0m             \u001b[0;32mexcept\u001b[0m \u001b[0mKeyError\u001b[0m\u001b[0;34m:\u001b[0m\u001b[0;34m\u001b[0m\u001b[0m\n\u001b[0;32m-> 2527\u001b[0;31m                 \u001b[0;32mreturn\u001b[0m \u001b[0mself\u001b[0m\u001b[0;34m.\u001b[0m\u001b[0m_engine\u001b[0m\u001b[0;34m.\u001b[0m\u001b[0mget_loc\u001b[0m\u001b[0;34m(\u001b[0m\u001b[0mself\u001b[0m\u001b[0;34m.\u001b[0m\u001b[0m_maybe_cast_indexer\u001b[0m\u001b[0;34m(\u001b[0m\u001b[0mkey\u001b[0m\u001b[0;34m)\u001b[0m\u001b[0;34m)\u001b[0m\u001b[0;34m\u001b[0m\u001b[0m\n\u001b[0m\u001b[1;32m   2528\u001b[0m \u001b[0;34m\u001b[0m\u001b[0m\n\u001b[1;32m   2529\u001b[0m         \u001b[0mindexer\u001b[0m \u001b[0;34m=\u001b[0m \u001b[0mself\u001b[0m\u001b[0;34m.\u001b[0m\u001b[0mget_indexer\u001b[0m\u001b[0;34m(\u001b[0m\u001b[0;34m[\u001b[0m\u001b[0mkey\u001b[0m\u001b[0;34m]\u001b[0m\u001b[0;34m,\u001b[0m \u001b[0mmethod\u001b[0m\u001b[0;34m=\u001b[0m\u001b[0mmethod\u001b[0m\u001b[0;34m,\u001b[0m \u001b[0mtolerance\u001b[0m\u001b[0;34m=\u001b[0m\u001b[0mtolerance\u001b[0m\u001b[0;34m)\u001b[0m\u001b[0;34m\u001b[0m\u001b[0m\n",
      "\u001b[0;32mpandas/_libs/index.pyx\u001b[0m in \u001b[0;36mpandas._libs.index.IndexEngine.get_loc\u001b[0;34m()\u001b[0m\n",
      "\u001b[0;32mpandas/_libs/index.pyx\u001b[0m in \u001b[0;36mpandas._libs.index.IndexEngine.get_loc\u001b[0;34m()\u001b[0m\n",
      "\u001b[0;32mpandas/_libs/hashtable_class_helper.pxi\u001b[0m in \u001b[0;36mpandas._libs.hashtable.PyObjectHashTable.get_item\u001b[0;34m()\u001b[0m\n",
      "\u001b[0;32mpandas/_libs/hashtable_class_helper.pxi\u001b[0m in \u001b[0;36mpandas._libs.hashtable.PyObjectHashTable.get_item\u001b[0;34m()\u001b[0m\n",
      "\u001b[0;31mKeyError\u001b[0m: 'mssubclass'"
     ]
    }
   ],
   "source": [
    "X_tr_obj['mssubclass'] = X_tr_num['mssubclass']\n",
    "X_full_obj['mssubclass'] = X_full_num['mssubclass']\n",
    "X_ts_obj['mssubclass'] = X_ts_num['mssubclass']\n",
    "finaltest_obj['mssubclass'] = finaltest_num['mssubclass']"
   ]
  },
  {
   "cell_type": "code",
   "execution_count": null,
   "metadata": {},
   "outputs": [],
   "source": [
    "X_tr_num.drop(['mssubclass'], axis = 1, inplace=True)\n",
    "X_full_num.drop(['mssubclass'], axis = 1, inplace=True)\n",
    "X_ts_num.drop(['mssubclass'], axis = 1, inplace=True)\n",
    "finaltest_num.drop(['mssubclass'], axis = 1, inplace=True)"
   ]
  },
  {
   "cell_type": "code",
   "execution_count": 200,
   "metadata": {
    "scrolled": false
   },
   "outputs": [
    {
     "name": "stderr",
     "output_type": "stream",
     "text": [
      "/anaconda3/envs/dsi/lib/python3.6/site-packages/pandas/core/frame.py:3035: SettingWithCopyWarning: \n",
      "A value is trying to be set on a copy of a slice from a DataFrame\n",
      "\n",
      "See the caveats in the documentation: http://pandas.pydata.org/pandas-docs/stable/indexing.html#indexing-view-versus-copy\n",
      "  downcast=downcast, **kwargs)\n"
     ]
    }
   ],
   "source": [
    "def quickfill(x):\n",
    "    x.fillna(0, inplace=True)\n",
    "quickfill(X_tr_obj)\n",
    "quickfill(X_full_obj)\n",
    "quickfill(X_ts_obj)\n",
    "quickfill(finaltest_obj)"
   ]
  },
  {
   "cell_type": "code",
   "execution_count": 161,
   "metadata": {
    "scrolled": true
   },
   "outputs": [],
   "source": [
    "temp_set = pd.concat([X_tr_obj, X_ts_obj], axis=0)\n",
    "temp_set = pd.get_dummies(temp_set, columns=temp_set.columns, drop_first=True)\n",
    "X_tr_dum1 = temp_set[:len(X_tr_obj)]\n",
    "X_ts_dum1 = temp_set[len(X_tr_obj):]\n",
    "X_train = pd.concat([X_tr_num, X_tr_dum1], axis = 1)\n",
    "X_test = pd.concat([X_ts_num, X_ts_dum1], axis = 1)\n",
    "\n",
    "\n",
    "\n",
    "X_full = pd.concat([X_full_num, pd.get_dummies(X_full_obj, columns=X_full_obj, drop_first=True)], axis=1)\n",
    "finaltest = pd.concat([finaltest_num, pd.get_dummies(finaltest_obj, columns=finaltest_obj, drop_first=True)], axis=1)"
   ]
  },
  {
   "cell_type": "code",
   "execution_count": 162,
   "metadata": {
    "scrolled": true
   },
   "outputs": [],
   "source": [
    "X_train['sp']=y_train"
   ]
  },
  {
   "cell_type": "code",
   "execution_count": 163,
   "metadata": {},
   "outputs": [],
   "source": [
    "vals = abs(X_train.corr().sp).drop('sp').sort_values(ascending=False)\n",
    "corr_cols = list(vals[vals >= .2].index)"
   ]
  },
  {
   "cell_type": "code",
   "execution_count": 164,
   "metadata": {},
   "outputs": [],
   "source": [
    "X_train = X_train.drop(['sp'], axis=1)"
   ]
  },
  {
   "cell_type": "code",
   "execution_count": 165,
   "metadata": {
    "scrolled": true
   },
   "outputs": [],
   "source": [
    "X_tr_mod3 = X_train[corr_cols]\n",
    "X_ts_mod3 = X_test[corr_cols]\n",
    "X_full_mod3 = X_full[corr_cols]\n",
    "finaltest_mod3 = finaltest[corr_cols]"
   ]
  },
  {
   "cell_type": "markdown",
   "metadata": {},
   "source": [
    "So here is the major change: I am not using polynomial features. I do not expect this model to perform better than the models I had that used polynomial features, but I did want to see how close I could get with a much simpler model. That is, how much complexity is necessary? "
   ]
  },
  {
   "cell_type": "code",
   "execution_count": 167,
   "metadata": {},
   "outputs": [],
   "source": [
    "# from sklearn.preprocessing import PolynomialFeatures\n",
    "# pf = PolynomialFeatures(degree=2, interaction_only=True, \n",
    "#                          include_bias=False)\n",
    "# pf.fit(X_tr_mod3)\n",
    "# X_tr_mod3 = pf.transform(X_tr_mod3)\n",
    "# X_ts_mod3 = pf.transform(X_ts_mod3)\n",
    "# X_full_mod3 = pf.transform(X_full_mod3)\n",
    "# finaltest_mod3 = pf.transform(finaltest_mod3)"
   ]
  },
  {
   "cell_type": "code",
   "execution_count": 169,
   "metadata": {},
   "outputs": [],
   "source": [
    "from sklearn.preprocessing import StandardScaler\n",
    "ss = StandardScaler()\n",
    "X_tr_mod3 = ss.fit_transform(X_tr_mod3)\n",
    "X_ts_mod3 = ss.transform(X_ts_mod3)\n",
    "X_full_mod3 = ss.fit_transform(X_full_mod3)\n",
    "finaltest_mod3 = ss.transform(finaltest_mod3)"
   ]
  },
  {
   "cell_type": "markdown",
   "metadata": {},
   "source": [
    "Because lasso, ridge, and enet all give us linear regressions, I'm going to try those and see what happens. I will still instantiate a regular linear regression at the end."
   ]
  },
  {
   "cell_type": "code",
   "execution_count": 170,
   "metadata": {
    "scrolled": true
   },
   "outputs": [
    {
     "name": "stderr",
     "output_type": "stream",
     "text": [
      "/anaconda3/envs/dsi/lib/python3.6/site-packages/sklearn/linear_model/coordinate_descent.py:491: ConvergenceWarning: Objective did not converge. You might want to increase the number of iterations. Fitting data with very small alpha may cause precision problems.\n",
      "  ConvergenceWarning)\n"
     ]
    }
   ],
   "source": [
    "l_alphas = np.arange(.001, .15, .0025)\n",
    "lasso_model = LassoCV(alphas=l_alphas, cv=5)\n",
    "model_3 = lasso_model.fit(X_tr_mod3, y_train)"
   ]
  },
  {
   "cell_type": "code",
   "execution_count": 171,
   "metadata": {
    "scrolled": false
   },
   "outputs": [
    {
     "name": "stdout",
     "output_type": "stream",
     "text": [
      "0.737611248586291\n"
     ]
    }
   ],
   "source": [
    "print(model_3.score(X_ts_mod3, y_test))"
   ]
  },
  {
   "cell_type": "code",
   "execution_count": 172,
   "metadata": {
    "scrolled": true
   },
   "outputs": [
    {
     "data": {
      "text/plain": [
       "RidgeCV(alphas=array([1.00000e+00, 1.05956e+00, ..., 9.43788e+04, 1.00000e+05]),\n",
       "    cv=10, fit_intercept=True, gcv_mode=None, normalize=False,\n",
       "    scoring=None, store_cv_values=False)"
      ]
     },
     "execution_count": 172,
     "metadata": {},
     "output_type": "execute_result"
    }
   ],
   "source": [
    "ridge_alphas = np.logspace(0, 5, 200)\n",
    "\n",
    "ridge_model = RidgeCV(alphas=ridge_alphas, cv=10)\n",
    "ridge_model.fit(X_tr_mod3, y_train)"
   ]
  },
  {
   "cell_type": "code",
   "execution_count": 173,
   "metadata": {
    "scrolled": true
   },
   "outputs": [
    {
     "name": "stdout",
     "output_type": "stream",
     "text": [
      "[ 0.84760599  0.91777151  0.84828789  0.84038183  0.83863958  0.83060624\n",
      "  0.7847292   0.8360507   0.8806451   0.31242016  0.65225491 -0.24071077\n",
      "  0.92359715  0.83602909  0.89442892]\n",
      "0.7335158342528988\n"
     ]
    }
   ],
   "source": [
    "ridge = Ridge(alpha=ridge_model.alpha_)\n",
    "\n",
    "ridge_scores = cross_val_score(ridge, X_ts_mod3, y_test, cv=15)\n",
    "\n",
    "print(ridge_scores)\n",
    "print(np.mean(ridge_scores))"
   ]
  },
  {
   "cell_type": "code",
   "execution_count": 174,
   "metadata": {
    "scrolled": false
   },
   "outputs": [
    {
     "name": "stdout",
     "output_type": "stream",
     "text": [
      "75.17148363218077\n",
      "1.0\n"
     ]
    }
   ],
   "source": [
    "l1_ratios = np.linspace(0.01, 1.0, 25)\n",
    "\n",
    "enet = ElasticNetCV(l1_ratio=l1_ratios, n_alphas=100, cv=10,\n",
    "                            verbose=0)\n",
    "enet.fit(X_tr_mod3, y_train)\n",
    "\n",
    "print(enet.alpha_)\n",
    "print(enet.l1_ratio_)"
   ]
  },
  {
   "cell_type": "code",
   "execution_count": 175,
   "metadata": {},
   "outputs": [
    {
     "name": "stdout",
     "output_type": "stream",
     "text": [
      "[ 0.85302779  0.86869264  0.83035575  0.82107385  0.74599497  0.83683879\n",
      "  0.32171566 -0.05289738  0.90717248  0.85746264]\n",
      "0.6989437200405393\n"
     ]
    }
   ],
   "source": [
    "enet = ElasticNet(alpha=enet.alpha_, l1_ratio=enet.l1_ratio_)\n",
    "\n",
    "enet_scores = cross_val_score(enet, X_ts_mod3, y_test, cv=10)\n",
    "\n",
    "print(enet_scores)\n",
    "print(np.mean(enet_scores))"
   ]
  },
  {
   "cell_type": "code",
   "execution_count": 180,
   "metadata": {
    "scrolled": false
   },
   "outputs": [
    {
     "name": "stdout",
     "output_type": "stream",
     "text": [
      "193.6384434639829\n",
      "1.0\n"
     ]
    }
   ],
   "source": [
    "l1_ratios = np.linspace(0.01, 1.0, 25)\n",
    "\n",
    "model_3_final = ElasticNetCV(l1_ratio=l1_ratios, n_alphas=100, cv=10,\n",
    "                            verbose=0)\n",
    "model_3_final.fit(X_full_mod3, y)\n",
    "\n",
    "print(model_3_final.alpha_)\n",
    "print(model_3_final.l1_ratio_)"
   ]
  },
  {
   "cell_type": "markdown",
   "metadata": {},
   "source": [
    "Just messing around with RFE to see what kind of score I get. "
   ]
  },
  {
   "cell_type": "code",
   "execution_count": 177,
   "metadata": {
    "scrolled": true
   },
   "outputs": [
    {
     "data": {
      "text/plain": [
       "0.7155822515384573"
      ]
     },
     "execution_count": 177,
     "metadata": {},
     "output_type": "execute_result"
    }
   ],
   "source": [
    "rfe = RFE(LinearRegression(),10)\n",
    "rfe.fit(X_tr_mod3,y_train)\n",
    "rfe.transform(X_tr_mod3)[:5]\n",
    "rfe.score(X_ts_mod3, y_test)"
   ]
  },
  {
   "cell_type": "markdown",
   "metadata": {},
   "source": [
    "And, finally, we do our linear regression. The score is definiltey worse than it was with our polynomial features, but it's not that worse."
   ]
  },
  {
   "cell_type": "code",
   "execution_count": 176,
   "metadata": {
    "scrolled": true
   },
   "outputs": [
    {
     "name": "stdout",
     "output_type": "stream",
     "text": [
      "r2 score: 0.7376047124079851\n",
      "Intercept: 180424.72626788035\n"
     ]
    }
   ],
   "source": [
    "model_3_final = LinearRegression()\n",
    "linreg = linreg.fit(X_tr_mod3,y_train)\n",
    "\n",
    "print('r2 score:', linreg.score(X_ts_mod3, y_test))\n",
    "print('Intercept:', linreg.intercept_)"
   ]
  },
  {
   "cell_type": "code",
   "execution_count": 182,
   "metadata": {
    "scrolled": true
   },
   "outputs": [],
   "source": [
    "evansubmission3 = pd.DataFrame(data = model_3_final.predict(finaltest_mod3), columns = ['SalePrice'], index=finaltest['id'])\n",
    "evansubmission3.to_csv('./evansubmission3.csv')"
   ]
  },
  {
   "cell_type": "code",
   "execution_count": 186,
   "metadata": {},
   "outputs": [
    {
     "data": {
      "image/png": "[encoded data removed]",
      "text/plain": [
       "<Figure size 576x576 with 1 Axes>"
      ]
     },
     "metadata": {
      "image/png": {
       "height": 479,
       "width": 515
      }
     },
     "output_type": "display_data"
    },
    {
     "name": "stdout",
     "output_type": "stream",
     "text": [
      "score:  0.7264005333910591\n"
     ]
    }
   ],
   "source": [
    "predictions = model_3_final.predict(X_ts_mod3)\n",
    "y = y_test\n",
    "\n",
    "# Plot the model\n",
    "plt.figure(figsize=(8,8))\n",
    "plt.scatter(predictions, y, s=30, c='g', marker='*', zorder=10)\n",
    "plt.xlabel(\"Predicted Values of Price From My Horrible Model\")\n",
    "plt.ylabel(\"Actual Values of Price\")\n",
    "\n",
    "plt.plot([0, np.max(y)], [0, np.max(y)], c = 'k')\n",
    "\n",
    "plt.show()\n",
    "score = cross_val_score(model_3_final, X_ts_mod3, y_test, cv=10)\n",
    "print(\"score: \", score.mean())"
   ]
  },
  {
   "cell_type": "code",
   "execution_count": 56,
   "metadata": {},
   "outputs": [],
   "source": [
    "# There are three files:\n",
    "\n",
    "# train.csv -- this data contains all of the training data for your model.\n",
    "# The target variable (SalePrice) is removed from the test set!\n",
    "# test.csv -- this data contains the test data for your model. You will feed this data into your regression model to make predictions.\n",
    "# sample_sub_reg.csv -- An example of a correctly formatted submission for this challenge (with a random number provided as predictions for SalePrice. Please ensure that your submission to Kaggle matches this format.\n",
    "# Codebook / Data Dictionary:\n",
    "\n",
    "# SalePrice - the property's sale price in dollars. This is the target variable that you're trying to predict for this challenge.\n",
    "# MSSubClass: The building class\n",
    "#     20 1-STORY 1946 & NEWER ALL STYLES\n",
    "#     30 1-STORY 1945 & OLDER\n",
    "#     40 1-STORY W/FINISHED ATTIC ALL AGES\n",
    "#     45 1-1/2 STORY - UNFINISHED ALL AGES\n",
    "#     50 1-1/2 STORY FINISHED ALL AGES\n",
    "#     60 2-STORY 1946 & NEWER\n",
    "#     70 2-STORY 1945 & OLDER\n",
    "#     75 2-1/2 STORY ALL AGES\n",
    "#     80 SPLIT OR MULTI-LEVEL\n",
    "#     85 SPLIT FOYER\n",
    "#     90 DUPLEX - ALL STYLES AND AGES\n",
    "#     120 1-STORY PUD (Planned Unit Development) - 1946 & NEWER\n",
    "#     150 1-1/2 STORY PUD - ALL AGES\n",
    "#     160 2-STORY PUD - 1946 & NEWER\n",
    "#     180 PUD - MULTILEVEL - INCL SPLIT LEV/FOYER\n",
    "#     190 2 FAMILY CONVERSION - ALL STYLES AND AGES\n",
    "# MSZoning: Identifies the general zoning classification of the sale.\n",
    "#     A Agriculture\n",
    "#     C Commercial\n",
    "#     FV Floating Village Residential\n",
    "#     I Industrial\n",
    "#     RH Residential High Density\n",
    "#     RL Residential Low Density\n",
    "#     RP Residential Low Density Park\n",
    "#     RM Residential Medium Density\n",
    "# LotFrontage: Linear feet of street connected to property\n",
    "# LotArea: Lot size in square feet\n",
    "# Street: Type of road access to property\n",
    "#     Grvl Gravel\n",
    "#     Pave Paved\n",
    "# Alley: Type of alley access to property\n",
    "#     Grvl Gravel\n",
    "#     Pave Paved\n",
    "#     NA No alley access\n",
    "# LotShape: General shape of property\n",
    "#     Reg Regular\n",
    "#     IR1 Slightly irregular\n",
    "#     IR2 Moderately Irregular\n",
    "#     IR3 Irregular\n",
    "# LandContour: Flatness of the property\n",
    "#     Lvl Near Flat/Level\n",
    "#     Bnk Banked - Quick and significant rise from street grade to building\n",
    "#     HLS Hillside - Significant slope from side to side\n",
    "#     Low Depression\n",
    "# Utilities: Type of utilities available\n",
    "#     AllPub All public Utilities (E,G,W,& S)\n",
    "#     NoSewr Electricity, Gas, and Water (Septic Tank)\n",
    "#     NoSeWa Electricity and Gas Only\n",
    "#     ELO Electricity only\n",
    "# LotConfig: Lot configuration\n",
    "#     Inside Inside lot\n",
    "#     Corner Corner lot\n",
    "#     CulDSac Cul-de-sac\n",
    "#     FR2 Frontage on 2 sides of property\n",
    "#     FR3 Frontage on 3 sides of property\n",
    "# LandSlope: Slope of property\n",
    "#     Gtl Gentle slope\n",
    "#     Mod Moderate Slope\n",
    "#     Sev Severe Slope\n",
    "# Neighborhood: Physical locations within Ames city limits\n",
    "#     Blmngtn Bloomington Heights\n",
    "#     Blueste Bluestem\n",
    "#     BrDale Briardale\n",
    "#     BrkSide Brookside\n",
    "#     ClearCr Clear Creek\n",
    "#     CollgCr College Creek\n",
    "#     Crawfor Crawford\n",
    "#     Edwards Edwards\n",
    "#     Gilbert Gilbert\n",
    "#     IDOTRR Iowa DOT and Rail Road\n",
    "#     MeadowV Meadow Village\n",
    "#     Mitchel Mitchell\n",
    "#     Names North Ames\n",
    "#     NoRidge Northridge\n",
    "#     NPkVill Northpark Villa\n",
    "#     NridgHt Northridge Heights\n",
    "#     NWAmes Northwest Ames\n",
    "#     OldTown Old Town\n",
    "#     SWISU South & West of Iowa State University\n",
    "#     Sawyer Sawyer\n",
    "#     SawyerW Sawyer West\n",
    "#     Somerst Somerset\n",
    "#     StoneBr Stone Brook\n",
    "#     Timber Timberland\n",
    "#     Veenker Veenker\n",
    "# Condition1: Proximity to main road or railroad\n",
    "#     Artery Adjacent to arterial street\n",
    "#     Feedr Adjacent to feeder street\n",
    "#     Norm Normal\n",
    "#     RRNn Within 200' of North-South Railroad\n",
    "#     RRAn Adjacent to North-South Railroad\n",
    "#     PosN Near positive off-site feature--park, greenbelt, etc.\n",
    "#     PosA Adjacent to postive off-site feature\n",
    "#     RRNe Within 200' of East-West Railroad\n",
    "#     RRAe Adjacent to East-West Railroad\n",
    "# Condition2: Proximity to main road or railroad (if a second is present)\n",
    "#     Artery Adjacent to arterial street\n",
    "#     Feedr Adjacent to feeder street\n",
    "#     Norm Normal\n",
    "#     RRNn Within 200' of North-South Railroad\n",
    "#     RRAn Adjacent to North-South Railroad\n",
    "#     PosN Near positive off-site feature--park, greenbelt, etc.\n",
    "#     PosA Adjacent to postive off-site feature\n",
    "#     RRNe Within 200' of East-West Railroad\n",
    "#     RRAe Adjacent to East-West Railroad\n",
    "# BldgType: Type of dwelling\n",
    "#     1Fam Single-family Detached\n",
    "#     2FmCon Two-family Conversion; originally built as one-family dwelling\n",
    "#     Duplx Duplex\n",
    "#     TwnhsE Townhouse End Unit\n",
    "#     TwnhsI Townhouse Inside Unit\n",
    "# HouseStyle: Style of dwelling\n",
    "#     1Story One story\n",
    "#     1.5Fin One and one-half story: 2nd level finished\n",
    "#     1.5Unf One and one-half story: 2nd level unfinished\n",
    "#     2Story Two story\n",
    "#     2.5Fin Two and one-half story: 2nd level finished\n",
    "#     2.5Unf Two and one-half story: 2nd level unfinished\n",
    "#     SFoyer Split Foyer\n",
    "#     SLvl Split Level\n",
    "# OverallQual: Overall material and finish quality\n",
    "#     10 Very Excellent\n",
    "#     9 Excellent\n",
    "#     8 Very Good\n",
    "#     7 Good\n",
    "#     6 Above Average\n",
    "#     5 Average\n",
    "#     4 Below Average\n",
    "#     3 Fair\n",
    "#     2 Poor\n",
    "#     1 Very Poor\n",
    "# OverallCond: Overall condition rating\n",
    "#     10 Very Excellent\n",
    "#     9 Excellent\n",
    "#     8 Very Good\n",
    "#     7 Good\n",
    "#     6 Above Average\n",
    "#     5 Average\n",
    "#     4 Below Average\n",
    "#     3 Fair\n",
    "#     2 Poor\n",
    "#     1 Very Poor\n",
    "# YearBuilt: Original construction date\n",
    "# YearRemodAdd: Remodel date (same as construction date if no remodeling or additions)\n",
    "# RoofStyle: Type of roof\n",
    "#     Flat Flat\n",
    "#     Gable Gable\n",
    "#     Gambrel Gabrel (Barn)\n",
    "#     Hip Hip\n",
    "#     Mansard Mansard\n",
    "#     Shed Shed\n",
    "# RoofMatl: Roof material\n",
    "#     ClyTile Clay or Tile\n",
    "#     CompShg Standard (Composite) Shingle\n",
    "#     Membran Membrane\n",
    "#     Metal Metal\n",
    "#     Roll Roll\n",
    "#     Tar&Grv Gravel & Tar\n",
    "#     WdShake Wood Shakes\n",
    "#     WdShngl Wood Shingles\n",
    "# Exterior1st: Exterior covering on house\n",
    "#     AsbShng Asbestos Shingles\n",
    "#     AsphShn Asphalt Shingles\n",
    "#     BrkComm Brick Common\n",
    "#     BrkFace Brick Face\n",
    "#     CBlock Cinder Block\n",
    "#     CemntBd Cement Board\n",
    "#     HdBoard Hard Board\n",
    "#     ImStucc Imitation Stucco\n",
    "#     MetalSd Metal Siding\n",
    "#     Other Other\n",
    "#     Plywood Plywood\n",
    "#     PreCast PreCast\n",
    "#     Stone Stone\n",
    "#     Stucco Stucco\n",
    "#     VinylSd Vinyl Siding\n",
    "#     Wd Sdng Wood Siding\n",
    "#     WdShing Wood Shingles\n",
    "# Exterior2nd: Exterior covering on house (if more than one material)\n",
    "#     AsbShng Asbestos Shingles\n",
    "#     AsphShn Asphalt Shingles\n",
    "#     BrkComm Brick Common\n",
    "#     BrkFace Brick Face\n",
    "#     CBlock Cinder Block\n",
    "#     CemntBd Cement Board\n",
    "#     HdBoard Hard Board\n",
    "#     ImStucc Imitation Stucco\n",
    "#     MetalSd Metal Siding\n",
    "#     Other Other\n",
    "#     Plywood Plywood\n",
    "#     PreCast PreCast\n",
    "#     Stone Stone\n",
    "#     Stucco Stucco\n",
    "#     VinylSd Vinyl Siding\n",
    "#     Wd Sdng Wood Siding\n",
    "#     WdShing Wood Shingles\n",
    "# MasVnrType: Masonry veneer type\n",
    "#     BrkCmn Brick Common\n",
    "#     BrkFace Brick Face\n",
    "#     CBlock Cinder Block\n",
    "#     None None\n",
    "#     Stone Stone\n",
    "# MasVnrArea: Masonry veneer area in square feet\n",
    "# ExterQual: Exterior material quality\n",
    "#     Ex Excellent\n",
    "#     Gd Good\n",
    "#     TA Average/Typical\n",
    "#     Fa Fair\n",
    "#     Po Poor\n",
    "# ExterCond: Present condition of the material on the exterior\n",
    "#     Ex Excellent\n",
    "#     Gd Good\n",
    "#     TA Average/Typical\n",
    "#     Fa Fair\n",
    "#     Po Poor\n",
    "# Foundation: Type of foundation\n",
    "#     BrkTil Brick & Tile\n",
    "#     CBlock Cinder Block\n",
    "#     PConc Poured Contrete\n",
    "#     Slab Slab\n",
    "#     Stone Stone\n",
    "#     Wood Wood\n",
    "# BsmtQual: Height of the basement\n",
    "#     Ex Excellent (100+ inches)\n",
    "#     Gd Good (90-99 inches)\n",
    "#     TA Typical (80-89 inches)\n",
    "#     Fa Fair (70-79 inches)\n",
    "#     Po Poor (<70 inches)\n",
    "#     NA No Basement\n",
    "# BsmtCond: General condition of the basement\n",
    "#     Ex Excellent\n",
    "#     Gd Good\n",
    "#     TA Typical - slight dampness allowed\n",
    "#     Fa Fair - dampness or some cracking or settling\n",
    "#     Po Poor - Severe cracking, settling, or wetness\n",
    "#     NA No Basement\n",
    "# BsmtExposure: Walkout or garden level basement walls\n",
    "#     Gd Good Exposure\n",
    "#     Av Average Exposure (split levels or foyers typically score average or above)\n",
    "#     Mn Mimimum Exposure\n",
    "#     No No Exposure\n",
    "#     NA No Basement\n",
    "# BsmtFinType1: Quality of basement finished area\n",
    "#     GLQ Good Living Quarters\n",
    "#     ALQ Average Living Quarters\n",
    "#     BLQ Below Average Living Quarters\n",
    "#     Rec Average Rec Room\n",
    "#     LwQ Low Quality\n",
    "#     Unf Unfinshed\n",
    "#     NA No Basement\n",
    "# BsmtFinSF1: Type 1 finished square feet\n",
    "# BsmtFinType2: Quality of second finished area (if present)\n",
    "#     GLQ Good Living Quarters\n",
    "#     ALQ Average Living Quarters\n",
    "#     BLQ Below Average Living Quarters\n",
    "#     Rec Average Rec Room\n",
    "#     LwQ Low Quality\n",
    "#     Unf Unfinshed\n",
    "#     NA No Basement\n",
    "# BsmtFinSF2: Type 2 finished square feet\n",
    "# BsmtUnfSF: Unfinished square feet of basement area\n",
    "# TotalBsmtSF: Total square feet of basement area\n",
    "# Heating: Type of heating\n",
    "#     Floor Floor Furnace\n",
    "#     GasA Gas forced warm air furnace\n",
    "#     GasW Gas hot water or steam heat\n",
    "#     Grav Gravity furnace\n",
    "#     OthW Hot water or steam heat other than gas\n",
    "#     Wall Wall furnace\n",
    "# HeatingQC: Heating quality and condition\n",
    "#     Ex Excellent\n",
    "#     Gd Good\n",
    "#     TA Average/Typical\n",
    "#     Fa Fair\n",
    "#     Po Poor\n",
    "# CentralAir: Central air conditioning\n",
    "#     N No\n",
    "#     Y Yes\n",
    "# Electrical: Electrical system\n",
    "#     SBrkr Standard Circuit Breakers & Romex\n",
    "#     FuseA Fuse Box over 60 AMP and all Romex wiring (Average)\n",
    "#     FuseF 60 AMP Fuse Box and mostly Romex wiring (Fair)\n",
    "#     FuseP 60 AMP Fuse Box and mostly knob & tube wiring (poor)\n",
    "#     Mix Mixed\n",
    "# 1stFlrSF: First Floor square feet\n",
    "# 2ndFlrSF: Second floor square feet\n",
    "# LowQualFinSF: Low quality finished square feet (all floors)\n",
    "# GrLivArea: Above grade (ground) living area square feet\n",
    "# BsmtFullBath: Basement full bathrooms\n",
    "# BsmtHalfBath: Basement half bathrooms\n",
    "# FullBath: Full bathrooms above grade\n",
    "# HalfBath: Half baths above grade\n",
    "# Bedroom: Number of bedrooms above basement level\n",
    "# Kitchen: Number of kitchens\n",
    "# KitchenQual: Kitchen quality\n",
    "#     Ex Excellent\n",
    "#     Gd Good\n",
    "#     TA Typical/Average\n",
    "#     Fa Fair\n",
    "#     Po Poor\n",
    "# TotRmsAbvGrd: Total rooms above grade (does not include bathrooms)\n",
    "# Functional: Home functionality rating\n",
    "#     Typ Typical Functionality\n",
    "#     Min1 Minor Deductions 1\n",
    "#     Min2 Minor Deductions 2\n",
    "#     Mod Moderate Deductions\n",
    "#     Maj1 Major Deductions 1\n",
    "#     Maj2 Major Deductions 2\n",
    "#     Sev Severely Damaged\n",
    "#     Sal Salvage only\n",
    "# Fireplaces: Number of fireplaces\n",
    "# FireplaceQu: Fireplace quality\n",
    "#     Ex Excellent - Exceptional Masonry Fireplace\n",
    "#     Gd Good - Masonry Fireplace in main level\n",
    "#     TA Average - Prefabricated Fireplace in main living area or Masonry Fireplace in basement\n",
    "#     Fa Fair - Prefabricated Fireplace in basement\n",
    "#     Po Poor - Ben Franklin Stove\n",
    "#     NA No Fireplace\n",
    "# GarageType: Garage location\n",
    "#     2Types More than one type of garage\n",
    "#     Attchd Attached to home\n",
    "#     Basment Basement Garage\n",
    "#     BuiltIn Built-In (Garage part of house - typically has room above garage)\n",
    "#     CarPort Car Port\n",
    "#     Detchd Detached from home\n",
    "#     NA No Garage\n",
    "# GarageYrBlt: Year garage was built\n",
    "# GarageFinish: Interior finish of the garage\n",
    "#     Fin Finished\n",
    "#     RFn Rough Finished\n",
    "#     Unf Unfinished\n",
    "#     NA No Garage\n",
    "# GarageCars: Size of garage in car capacity\n",
    "# GarageArea: Size of garage in square feet\n",
    "# GarageQual: Garage quality\n",
    "#     Ex Excellent\n",
    "#     Gd Good\n",
    "#     TA Typical/Average\n",
    "#     Fa Fair\n",
    "#     Po Poor\n",
    "#     NA No Garage\n",
    "#     GarageCond: Garage condition\n",
    "#     Ex Excellent\n",
    "#     Gd Good\n",
    "#     TA Typical/Average\n",
    "#     Fa Fair\n",
    "#     Po Poor\n",
    "#     NA No Garage\n",
    "# PavedDrive: Paved driveway\n",
    "#     Y Paved\n",
    "#     P Partial Pavement\n",
    "#     N Dirt/Gravel\n",
    "# WoodDeckSF: Wood deck area in square feet\n",
    "# OpenPorchSF: Open porch area in square feet\n",
    "# EnclosedPorch: Enclosed porch area in square feet\n",
    "# 3SsnPorch: Three season porch area in square feet\n",
    "# ScreenPorch: Screen porch area in square feet\n",
    "# PoolArea: Pool area in square feet\n",
    "# PoolQC: Pool quality\n",
    "#     Ex Excellent\n",
    "#     Gd Good\n",
    "#     TA Average/Typical\n",
    "#     Fa Fair\n",
    "#     NA No Pool\n",
    "# Fence: Fence quality\n",
    "#     GdPrv Good Privacy\n",
    "#     MnPrv Minimum Privacy\n",
    "#     GdWo Good Wood\n",
    "#     MnWw Minimum Wood/Wire\n",
    "#     NA No Fence\n",
    "# MiscFeature: Miscellaneous feature not covered in other categories\n",
    "#     Elev Elevator\n",
    "#     Gar2 2nd Garage (if not described in garage section)\n",
    "#     Othr Other\n",
    "#     Shed Shed (over 100 SF)\n",
    "#     TenC Tennis Court\n",
    "#     NA None\n",
    "# MiscVal: $Value of miscellaneous feature\n",
    "# MoSold: Month Sold\n",
    "# YrSold: Year Sold\n",
    "# SaleType: Type of sale\n",
    "#     WD Warranty Deed - Conventional\n",
    "#     CWD Warranty Deed - Cash\n",
    "#     VWD Warranty Deed - VA Loan\n",
    "#     New Home just constructed and sold\n",
    "#     COD Court Officer Deed/Estate\n",
    "#     Con Contract 15% Down payment regular terms\n",
    "#     ConLw Contract Low Down payment and low interest\n",
    "#     ConLI Contract Low Interest\n",
    "#     ConLD Contract Low Down\n",
    "#     Oth Other\n"
   ]
  }
 ],
 "metadata": {
  "kernelspec": {
   "display_name": "Python [conda env:dsi]",
   "language": "python",
   "name": "conda-env-dsi-py"
  },
  "language_info": {
   "codemirror_mode": {
    "name": "ipython",
    "version": 3
   },
   "file_extension": ".py",
   "mimetype": "text/x-python",
   "name": "python",
   "nbconvert_exporter": "python",
   "pygments_lexer": "ipython3",
   "version": "3.6.5"
  }
 },
 "nbformat": 4,
 "nbformat_minor": 2
}
